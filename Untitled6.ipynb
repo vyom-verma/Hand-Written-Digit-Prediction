{
  "nbformat": 4,
  "nbformat_minor": 0,
  "metadata": {
    "colab": {
      "provenance": []
    },
    "kernelspec": {
      "name": "python3",
      "display_name": "Python 3"
    },
    "language_info": {
      "name": "python"
    }
  },
  "cells": [
    {
      "cell_type": "markdown",
      "source": [
        "# **Import Library**"
      ],
      "metadata": {
        "id": "L9B7jtQaCc8_"
      }
    },
    {
      "cell_type": "code",
      "execution_count": 2,
      "metadata": {
        "id": "-Xxo70UtBi0C"
      },
      "outputs": [],
      "source": [
        "import pandas as pd\n",
        "import numpy as np\n",
        "import matplotlib.pyplot as plt"
      ]
    },
    {
      "cell_type": "markdown",
      "source": [
        "# Import **Data**"
      ],
      "metadata": {
        "id": "ddJrowZcCXWF"
      }
    },
    {
      "cell_type": "code",
      "source": [
        "from sklearn.datasets import load_digits"
      ],
      "metadata": {
        "id": "rEpTD7LFCp5d"
      },
      "execution_count": 3,
      "outputs": []
    },
    {
      "cell_type": "code",
      "source": [
        "df = load_digits()"
      ],
      "metadata": {
        "id": "3mLyA2vVCwfj"
      },
      "execution_count": 4,
      "outputs": []
    },
    {
      "cell_type": "code",
      "source": [
        "_,axes =plt.subplots(nrows = 1 ,ncols = 4 , figsize=(10,3))\n",
        "for ax, image, label in zip(axes ,df.images ,df.target):\n",
        "  ax.set_axis_off()\n",
        "  ax.imshow(image, cmap=plt.cm.gray_r ,interpolation=\"nearest\")\n",
        "  ax.set_title(\"Training : %i\" % label)\n"
      ],
      "metadata": {
        "colab": {
          "base_uri": "https://localhost:8080/",
          "height": 187
        },
        "id": "KdbrYQanC18J",
        "outputId": "092f26f9-4e55-43c6-b588-803ea09f7e0a"
      },
      "execution_count": 9,
      "outputs": [
        {
          "output_type": "display_data",
          "data": {
            "text/plain": [
              "<Figure size 1000x300 with 4 Axes>"
            ],
            "image/png": "[encoded data removed]"
          },
          "metadata": {}
        }
      ]
    },
    {
      "cell_type": "markdown",
      "source": [
        "# **Data Preprocessing**\n",
        "\n",
        "\n",
        "\n"
      ],
      "metadata": {
        "id": "SEV3CdrCEG-z"
      }
    },
    {
      "cell_type": "code",
      "source": [
        "df.images.shape"
      ],
      "metadata": {
        "colab": {
          "base_uri": "https://localhost:8080/"
        },
        "id": "6H41U4kmELh4",
        "outputId": "dacc35f8-82d4-45c6-c3d5-7c11b3611141"
      },
      "execution_count": 10,
      "outputs": [
        {
          "output_type": "execute_result",
          "data": {
            "text/plain": [
              "(1797, 8, 8)"
            ]
          },
          "metadata": {},
          "execution_count": 10
        }
      ]
    },
    {
      "cell_type": "code",
      "source": [
        "df.images[0]"
      ],
      "metadata": {
        "colab": {
          "base_uri": "https://localhost:8080/"
        },
        "id": "uizQWa9nEgA1",
        "outputId": "9dccc41a-6efc-4951-a8c3-6c12e27b9a90"
      },
      "execution_count": 11,
      "outputs": [
        {
          "output_type": "execute_result",
          "data": {
            "text/plain": [
              "array([[ 0.,  0.,  5., 13.,  9.,  1.,  0.,  0.],\n",
              "       [ 0.,  0., 13., 15., 10., 15.,  5.,  0.],\n",
              "       [ 0.,  3., 15.,  2.,  0., 11.,  8.,  0.],\n",
              "       [ 0.,  4., 12.,  0.,  0.,  8.,  8.,  0.],\n",
              "       [ 0.,  5.,  8.,  0.,  0.,  9.,  8.,  0.],\n",
              "       [ 0.,  4., 11.,  0.,  1., 12.,  7.,  0.],\n",
              "       [ 0.,  2., 14.,  5., 10., 12.,  0.,  0.],\n",
              "       [ 0.,  0.,  6., 13., 10.,  0.,  0.,  0.]])"
            ]
          },
          "metadata": {},
          "execution_count": 11
        }
      ]
    },
    {
      "cell_type": "code",
      "source": [
        "df.images[0].shape"
      ],
      "metadata": {
        "colab": {
          "base_uri": "https://localhost:8080/"
        },
        "id": "B5uB-mqrEnrj",
        "outputId": "82191749-b7f2-488f-dc91-a955c9b9aa8e"
      },
      "execution_count": 12,
      "outputs": [
        {
          "output_type": "execute_result",
          "data": {
            "text/plain": [
              "(8, 8)"
            ]
          },
          "metadata": {},
          "execution_count": 12
        }
      ]
    },
    {
      "cell_type": "code",
      "source": [
        "len(df.images)"
      ],
      "metadata": {
        "colab": {
          "base_uri": "https://localhost:8080/"
        },
        "id": "JHyuuDLREroE",
        "outputId": "23599482-e408-4197-ebe0-88ee40b57206"
      },
      "execution_count": 13,
      "outputs": [
        {
          "output_type": "execute_result",
          "data": {
            "text/plain": [
              "1797"
            ]
          },
          "metadata": {},
          "execution_count": 13
        }
      ]
    },
    {
      "cell_type": "code",
      "source": [
        "n_samples =len(df.images)\n",
        "data =df.images.reshape((n_samples),-1)"
      ],
      "metadata": {
        "id": "RzSrNslPEx_K"
      },
      "execution_count": 14,
      "outputs": []
    },
    {
      "cell_type": "code",
      "source": [
        "data[0]"
      ],
      "metadata": {
        "colab": {
          "base_uri": "https://localhost:8080/"
        },
        "id": "Lnky7j1tE9V5",
        "outputId": "cb7bbfdb-89ce-44ca-e0cc-99ce19381caf"
      },
      "execution_count": 15,
      "outputs": [
        {
          "output_type": "execute_result",
          "data": {
            "text/plain": [
              "array([ 0.,  0.,  5., 13.,  9.,  1.,  0.,  0.,  0.,  0., 13., 15., 10.,\n",
              "       15.,  5.,  0.,  0.,  3., 15.,  2.,  0., 11.,  8.,  0.,  0.,  4.,\n",
              "       12.,  0.,  0.,  8.,  8.,  0.,  0.,  5.,  8.,  0.,  0.,  9.,  8.,\n",
              "        0.,  0.,  4., 11.,  0.,  1., 12.,  7.,  0.,  0.,  2., 14.,  5.,\n",
              "       10., 12.,  0.,  0.,  0.,  0.,  6., 13., 10.,  0.,  0.,  0.])"
            ]
          },
          "metadata": {},
          "execution_count": 15
        }
      ]
    },
    {
      "cell_type": "code",
      "source": [
        "data[0].shape"
      ],
      "metadata": {
        "colab": {
          "base_uri": "https://localhost:8080/"
        },
        "id": "MSeNcMmfFAJj",
        "outputId": "78038c30-f2b2-4f78-9c25-5850f4376a6e"
      },
      "execution_count": 16,
      "outputs": [
        {
          "output_type": "execute_result",
          "data": {
            "text/plain": [
              "(64,)"
            ]
          },
          "metadata": {},
          "execution_count": 16
        }
      ]
    },
    {
      "cell_type": "code",
      "source": [
        "data.shape"
      ],
      "metadata": {
        "colab": {
          "base_uri": "https://localhost:8080/"
        },
        "id": "mShW7ga_FFgU",
        "outputId": "2542050c-7460-45df-a50c-4f3ec3741c7a"
      },
      "execution_count": 17,
      "outputs": [
        {
          "output_type": "execute_result",
          "data": {
            "text/plain": [
              "(1797, 64)"
            ]
          },
          "metadata": {},
          "execution_count": 17
        }
      ]
    },
    {
      "cell_type": "markdown",
      "source": [
        "# Scaling Image Data"
      ],
      "metadata": {
        "id": "uNN5DhILFIz0"
      }
    },
    {
      "cell_type": "code",
      "source": [
        "data.min()"
      ],
      "metadata": {
        "colab": {
          "base_uri": "https://localhost:8080/"
        },
        "id": "1rrEZJP0Ga4Z",
        "outputId": "05e432d1-9f10-4383-d036-4ec1b7465f78"
      },
      "execution_count": 18,
      "outputs": [
        {
          "output_type": "execute_result",
          "data": {
            "text/plain": [
              "0.0"
            ]
          },
          "metadata": {},
          "execution_count": 18
        }
      ]
    },
    {
      "cell_type": "code",
      "source": [
        "data.max()"
      ],
      "metadata": {
        "colab": {
          "base_uri": "https://localhost:8080/"
        },
        "id": "z-K-KZMhGeaQ",
        "outputId": "fb47e00e-82ca-4d98-a8fe-32e21379ce8b"
      },
      "execution_count": 19,
      "outputs": [
        {
          "output_type": "execute_result",
          "data": {
            "text/plain": [
              "16.0"
            ]
          },
          "metadata": {},
          "execution_count": 19
        }
      ]
    },
    {
      "cell_type": "code",
      "source": [
        "data = data/16"
      ],
      "metadata": {
        "id": "pPEv5SUyGgS-"
      },
      "execution_count": 20,
      "outputs": []
    },
    {
      "cell_type": "code",
      "source": [
        "data.min()"
      ],
      "metadata": {
        "colab": {
          "base_uri": "https://localhost:8080/"
        },
        "id": "BCJXC6oCGiw-",
        "outputId": "ae8252f3-9f43-48f7-b782-76c74167274b"
      },
      "execution_count": 21,
      "outputs": [
        {
          "output_type": "execute_result",
          "data": {
            "text/plain": [
              "0.0"
            ]
          },
          "metadata": {},
          "execution_count": 21
        }
      ]
    },
    {
      "cell_type": "code",
      "source": [
        "data.max()"
      ],
      "metadata": {
        "colab": {
          "base_uri": "https://localhost:8080/"
        },
        "id": "falPWnerGl4_",
        "outputId": "7ba54e6d-5ad3-46bd-f910-4db5d008037d"
      },
      "execution_count": 22,
      "outputs": [
        {
          "output_type": "execute_result",
          "data": {
            "text/plain": [
              "1.0"
            ]
          },
          "metadata": {},
          "execution_count": 22
        }
      ]
    },
    {
      "cell_type": "code",
      "source": [
        "data[0]"
      ],
      "metadata": {
        "colab": {
          "base_uri": "https://localhost:8080/"
        },
        "id": "HA0qB9GrGp5t",
        "outputId": "5262c7a9-6cc0-433c-969e-05a6d5fdec83"
      },
      "execution_count": 23,
      "outputs": [
        {
          "output_type": "execute_result",
          "data": {
            "text/plain": [
              "array([0.    , 0.    , 0.3125, 0.8125, 0.5625, 0.0625, 0.    , 0.    ,\n",
              "       0.    , 0.    , 0.8125, 0.9375, 0.625 , 0.9375, 0.3125, 0.    ,\n",
              "       0.    , 0.1875, 0.9375, 0.125 , 0.    , 0.6875, 0.5   , 0.    ,\n",
              "       0.    , 0.25  , 0.75  , 0.    , 0.    , 0.5   , 0.5   , 0.    ,\n",
              "       0.    , 0.3125, 0.5   , 0.    , 0.    , 0.5625, 0.5   , 0.    ,\n",
              "       0.    , 0.25  , 0.6875, 0.    , 0.0625, 0.75  , 0.4375, 0.    ,\n",
              "       0.    , 0.125 , 0.875 , 0.3125, 0.625 , 0.75  , 0.    , 0.    ,\n",
              "       0.    , 0.    , 0.375 , 0.8125, 0.625 , 0.    , 0.    , 0.    ])"
            ]
          },
          "metadata": {},
          "execution_count": 23
        }
      ]
    },
    {
      "cell_type": "markdown",
      "source": [
        "# **Train Test Split Data**"
      ],
      "metadata": {
        "id": "pNFmUT7HGtDE"
      }
    },
    {
      "cell_type": "code",
      "source": [
        "from sklearn.model_selection import train_test_split"
      ],
      "metadata": {
        "id": "19mM_PKiGr8V"
      },
      "execution_count": 24,
      "outputs": []
    },
    {
      "cell_type": "code",
      "source": [
        "X_train,X_test,y_train,y_test =  train_test_split(data , df.target ,test_size=0.3)"
      ],
      "metadata": {
        "id": "Qux56w8xG9Sc"
      },
      "execution_count": 25,
      "outputs": []
    },
    {
      "cell_type": "code",
      "source": [
        "X_train.shape, X_test.shape , y_train.shape , y_test.shape"
      ],
      "metadata": {
        "colab": {
          "base_uri": "https://localhost:8080/"
        },
        "id": "RCAMU507HPee",
        "outputId": "91ce2bb7-a616-47d4-deab-73dba9a23fa2"
      },
      "execution_count": 26,
      "outputs": [
        {
          "output_type": "execute_result",
          "data": {
            "text/plain": [
              "((1257, 64), (540, 64), (1257,), (540,))"
            ]
          },
          "metadata": {},
          "execution_count": 26
        }
      ]
    },
    {
      "cell_type": "markdown",
      "source": [
        "# **Random Forest Model**"
      ],
      "metadata": {
        "id": "QYlK6gtGHd_7"
      }
    },
    {
      "cell_type": "code",
      "source": [
        "from sklearn.ensemble import RandomForestClassifier\n",
        "rf = RandomForestClassifier()"
      ],
      "metadata": {
        "id": "t2fSYnT2Hdai"
      },
      "execution_count": 27,
      "outputs": []
    },
    {
      "cell_type": "code",
      "source": [
        "rf.fit(X_train, y_train)"
      ],
      "metadata": {
        "colab": {
          "base_uri": "https://localhost:8080/",
          "height": 74
        },
        "id": "Q26pfBRWHydt",
        "outputId": "a6ba7d03-d7d3-453c-ade1-e081c8b476eb"
      },
      "execution_count": 29,
      "outputs": [
        {
          "output_type": "execute_result",
          "data": {
            "text/plain": [
              "RandomForestClassifier()"
            ],
            "text/html": [
              "<style>#sk-container-id-2 {color: black;background-color: white;}#sk-container-id-2 pre{padding: 0;}#sk-container-id-2 div.sk-toggleable {background-color: white;}#sk-container-id-2 label.sk-toggleable__label {cursor: pointer;display: block;width: 100%;margin-bottom: 0;padding: 0.3em;box-sizing: border-box;text-align: center;}#sk-container-id-2 label.sk-toggleable__label-arrow:before {content: \"▸\";float: left;margin-right: 0.25em;color: #696969;}#sk-container-id-2 label.sk-toggleable__label-arrow:hover:before {color: black;}#sk-container-id-2 div.sk-estimator:hover label.sk-toggleable__label-arrow:before {color: black;}#sk-container-id-2 div.sk-toggleable__content {max-height: 0;max-width: 0;overflow: hidden;text-align: left;background-color: #f0f8ff;}#sk-container-id-2 div.sk-toggleable__content pre {margin: 0.2em;color: black;border-radius: 0.25em;background-color: #f0f8ff;}#sk-container-id-2 input.sk-toggleable__control:checked~div.sk-toggleable__content {max-height: 200px;max-width: 100%;overflow: auto;}#sk-container-id-2 input.sk-toggleable__control:checked~label.sk-toggleable__label-arrow:before {content: \"▾\";}#sk-container-id-2 div.sk-estimator input.sk-toggleable__control:checked~label.sk-toggleable__label {background-color: #d4ebff;}#sk-container-id-2 div.sk-label input.sk-toggleable__control:checked~label.sk-toggleable__label {background-color: #d4ebff;}#sk-container-id-2 input.sk-hidden--visually {border: 0;clip: rect(1px 1px 1px 1px);clip: rect(1px, 1px, 1px, 1px);height: 1px;margin: -1px;overflow: hidden;padding: 0;position: absolute;width: 1px;}#sk-container-id-2 div.sk-estimator {font-family: monospace;background-color: #f0f8ff;border: 1px dotted black;border-radius: 0.25em;box-sizing: border-box;margin-bottom: 0.5em;}#sk-container-id-2 div.sk-estimator:hover {background-color: #d4ebff;}#sk-container-id-2 div.sk-parallel-item::after {content: \"\";width: 100%;border-bottom: 1px solid gray;flex-grow: 1;}#sk-container-id-2 div.sk-label:hover label.sk-toggleable__label {background-color: #d4ebff;}#sk-container-id-2 div.sk-serial::before {content: \"\";position: absolute;border-left: 1px solid gray;box-sizing: border-box;top: 0;bottom: 0;left: 50%;z-index: 0;}#sk-container-id-2 div.sk-serial {display: flex;flex-direction: column;align-items: center;background-color: white;padding-right: 0.2em;padding-left: 0.2em;position: relative;}#sk-container-id-2 div.sk-item {position: relative;z-index: 1;}#sk-container-id-2 div.sk-parallel {display: flex;align-items: stretch;justify-content: center;background-color: white;position: relative;}#sk-container-id-2 div.sk-item::before, #sk-container-id-2 div.sk-parallel-item::before {content: \"\";position: absolute;border-left: 1px solid gray;box-sizing: border-box;top: 0;bottom: 0;left: 50%;z-index: -1;}#sk-container-id-2 div.sk-parallel-item {display: flex;flex-direction: column;z-index: 1;position: relative;background-color: white;}#sk-container-id-2 div.sk-parallel-item:first-child::after {align-self: flex-end;width: 50%;}#sk-container-id-2 div.sk-parallel-item:last-child::after {align-self: flex-start;width: 50%;}#sk-container-id-2 div.sk-parallel-item:only-child::after {width: 0;}#sk-container-id-2 div.sk-dashed-wrapped {border: 1px dashed gray;margin: 0 0.4em 0.5em 0.4em;box-sizing: border-box;padding-bottom: 0.4em;background-color: white;}#sk-container-id-2 div.sk-label label {font-family: monospace;font-weight: bold;display: inline-block;line-height: 1.2em;}#sk-container-id-2 div.sk-label-container {text-align: center;}#sk-container-id-2 div.sk-container {/* jupyter's `normalize.less` sets `[hidden] { display: none; }` but bootstrap.min.css set `[hidden] { display: none !important; }` so we also need the `!important` here to be able to override the default hidden behavior on the sphinx rendered scikit-learn.org. See: https://github.com/scikit-learn/scikit-learn/issues/21755 */display: inline-block !important;position: relative;}#sk-container-id-2 div.sk-text-repr-fallback {display: none;}</style><div id=\"sk-container-id-2\" class=\"sk-top-container\"><div class=\"sk-text-repr-fallback\"><pre>RandomForestClassifier()</pre><b>In a Jupyter environment, please rerun this cell to show the HTML representation or trust the notebook. <br />On GitHub, the HTML representation is unable to render, please try loading this page with nbviewer.org.</b></div><div class=\"sk-container\" hidden><div class=\"sk-item\"><div class=\"sk-estimator sk-toggleable\"><input class=\"sk-toggleable__control sk-hidden--visually\" id=\"sk-estimator-id-2\" type=\"checkbox\" checked><label for=\"sk-estimator-id-2\" class=\"sk-toggleable__label sk-toggleable__label-arrow\">RandomForestClassifier</label><div class=\"sk-toggleable__content\"><pre>RandomForestClassifier()</pre></div></div></div></div></div>"
            ]
          },
          "metadata": {},
          "execution_count": 29
        }
      ]
    },
    {
      "cell_type": "markdown",
      "source": [
        "# **Predict Test Data**"
      ],
      "metadata": {
        "id": "AidKZATOH6sL"
      }
    },
    {
      "cell_type": "code",
      "source": [
        "y_pred=rf.predict(X_test)\n",
        "y_pred"
      ],
      "metadata": {
        "colab": {
          "base_uri": "https://localhost:8080/"
        },
        "id": "8vWhOCelIAXx",
        "outputId": "9e964cb1-5fd0-4f41-e6f8-0b0c56378463"
      },
      "execution_count": 30,
      "outputs": [
        {
          "output_type": "execute_result",
          "data": {
            "text/plain": [
              "array([8, 8, 1, 1, 1, 2, 3, 5, 8, 7, 0, 2, 5, 9, 8, 9, 8, 1, 1, 3, 8, 1,\n",
              "       0, 7, 9, 0, 4, 1, 2, 6, 8, 2, 6, 0, 3, 8, 4, 5, 1, 5, 3, 2, 1, 6,\n",
              "       2, 9, 0, 9, 2, 4, 7, 5, 1, 8, 3, 8, 6, 2, 4, 6, 0, 9, 0, 0, 2, 6,\n",
              "       9, 8, 4, 6, 9, 6, 9, 0, 9, 4, 2, 0, 9, 7, 9, 6, 7, 9, 2, 2, 6, 9,\n",
              "       0, 0, 8, 9, 6, 4, 1, 9, 0, 5, 0, 4, 0, 5, 0, 9, 9, 0, 7, 5, 8, 2,\n",
              "       2, 5, 6, 1, 2, 8, 4, 2, 0, 8, 3, 5, 7, 6, 1, 1, 9, 6, 7, 1, 4, 9,\n",
              "       7, 7, 3, 4, 9, 9, 0, 4, 9, 1, 1, 1, 3, 6, 8, 1, 8, 1, 7, 5, 0, 4,\n",
              "       1, 2, 5, 8, 6, 4, 9, 1, 9, 7, 6, 7, 3, 2, 7, 6, 7, 4, 1, 3, 4, 7,\n",
              "       1, 7, 2, 5, 6, 0, 9, 9, 9, 5, 5, 2, 3, 0, 9, 8, 2, 5, 2, 5, 9, 6,\n",
              "       1, 2, 7, 1, 2, 2, 3, 5, 6, 7, 4, 3, 5, 7, 5, 7, 2, 2, 1, 5, 8, 7,\n",
              "       8, 5, 9, 5, 9, 0, 9, 3, 3, 2, 4, 9, 5, 1, 7, 3, 9, 0, 0, 5, 4, 4,\n",
              "       0, 4, 8, 2, 8, 1, 0, 5, 6, 6, 9, 3, 9, 9, 0, 4, 8, 0, 7, 8, 6, 7,\n",
              "       7, 0, 2, 4, 4, 6, 6, 6, 8, 7, 9, 8, 1, 5, 1, 7, 6, 0, 4, 4, 6, 1,\n",
              "       0, 7, 4, 2, 5, 9, 9, 4, 8, 4, 4, 0, 1, 2, 2, 5, 7, 2, 6, 7, 7, 9,\n",
              "       3, 3, 5, 1, 8, 6, 9, 8, 6, 6, 5, 0, 7, 8, 3, 1, 6, 8, 2, 6, 7, 3,\n",
              "       8, 4, 4, 3, 0, 2, 5, 6, 7, 7, 6, 8, 8, 0, 5, 2, 3, 9, 9, 8, 2, 6,\n",
              "       8, 8, 7, 5, 3, 5, 9, 7, 7, 5, 6, 7, 5, 6, 0, 4, 0, 5, 5, 5, 4, 2,\n",
              "       5, 6, 9, 3, 4, 2, 9, 8, 8, 5, 8, 3, 1, 6, 6, 6, 0, 0, 7, 9, 1, 3,\n",
              "       3, 9, 6, 4, 9, 4, 0, 4, 2, 0, 4, 6, 5, 6, 0, 6, 6, 1, 4, 2, 6, 6,\n",
              "       2, 8, 7, 8, 8, 9, 6, 6, 4, 7, 7, 7, 4, 0, 9, 0, 5, 2, 7, 2, 2, 3,\n",
              "       3, 6, 9, 5, 1, 1, 3, 2, 4, 3, 0, 1, 8, 1, 2, 9, 5, 3, 8, 3, 7, 7,\n",
              "       7, 9, 5, 6, 4, 6, 3, 1, 1, 9, 2, 0, 5, 5, 8, 9, 1, 9, 5, 1, 6, 8,\n",
              "       5, 7, 1, 3, 8, 7, 8, 1, 2, 9, 2, 7, 7, 1, 2, 7, 6, 9, 0, 6, 8, 6,\n",
              "       5, 1, 6, 8, 0, 7, 4, 1, 1, 0, 0, 8, 7, 0, 1, 8, 2, 6, 4, 3, 0, 0,\n",
              "       3, 4, 9, 5, 5, 2, 8, 3, 7, 3, 5, 4])"
            ]
          },
          "metadata": {},
          "execution_count": 30
        }
      ]
    },
    {
      "cell_type": "markdown",
      "source": [
        "# **Model Accuracy**"
      ],
      "metadata": {
        "id": "FWi4ky0wINDK"
      }
    },
    {
      "cell_type": "code",
      "source": [
        "from  sklearn.metrics import confusion_matrix , classification_report"
      ],
      "metadata": {
        "id": "LqVea7kWITTW"
      },
      "execution_count": 31,
      "outputs": []
    },
    {
      "cell_type": "code",
      "source": [
        "confusion_matrix(y_test,y_pred)"
      ],
      "metadata": {
        "colab": {
          "base_uri": "https://localhost:8080/"
        },
        "id": "Ijq85NlgIfqz",
        "outputId": "1092e309-e1a4-457d-8d9a-7fb5089ea8f0"
      },
      "execution_count": 32,
      "outputs": [
        {
          "output_type": "execute_result",
          "data": {
            "text/plain": [
              "array([[51,  0,  0,  0,  1,  0,  0,  0,  0,  0],\n",
              "       [ 0, 51,  0,  0,  0,  0,  0,  0,  0,  0],\n",
              "       [ 2,  1, 53,  0,  0,  0,  0,  0,  0,  1],\n",
              "       [ 0,  0,  0, 39,  0,  2,  0,  0,  0,  1],\n",
              "       [ 0,  0,  0,  0, 47,  0,  0,  1,  1,  0],\n",
              "       [ 0,  0,  0,  0,  0, 51,  1,  0,  0,  1],\n",
              "       [ 1,  0,  0,  0,  0,  0, 61,  0,  0,  0],\n",
              "       [ 0,  0,  0,  0,  0,  0,  0, 51,  0,  0],\n",
              "       [ 0,  1,  1,  0,  0,  0,  0,  0, 54,  1],\n",
              "       [ 0,  0,  0,  1,  0,  2,  0,  5,  0, 58]])"
            ]
          },
          "metadata": {},
          "execution_count": 32
        }
      ]
    },
    {
      "cell_type": "code",
      "source": [
        "print(classification_report(y_test,y_pred))"
      ],
      "metadata": {
        "colab": {
          "base_uri": "https://localhost:8080/"
        },
        "id": "f3rfWVC5IlTo",
        "outputId": "085f245f-2ff3-4f6d-f59f-ed6d7a24f169"
      },
      "execution_count": 33,
      "outputs": [
        {
          "output_type": "stream",
          "name": "stdout",
          "text": [
            "              precision    recall  f1-score   support\n",
            "\n",
            "           0       0.94      0.98      0.96        52\n",
            "           1       0.96      1.00      0.98        51\n",
            "           2       0.98      0.93      0.95        57\n",
            "           3       0.97      0.93      0.95        42\n",
            "           4       0.98      0.96      0.97        49\n",
            "           5       0.93      0.96      0.94        53\n",
            "           6       0.98      0.98      0.98        62\n",
            "           7       0.89      1.00      0.94        51\n",
            "           8       0.98      0.95      0.96        57\n",
            "           9       0.94      0.88      0.91        66\n",
            "\n",
            "    accuracy                           0.96       540\n",
            "   macro avg       0.96      0.96      0.96       540\n",
            "weighted avg       0.96      0.96      0.96       540\n",
            "\n"
          ]
        }
      ]
    }
  ]
}